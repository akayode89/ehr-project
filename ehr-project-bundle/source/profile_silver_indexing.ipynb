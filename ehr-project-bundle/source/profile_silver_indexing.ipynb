{
 "cells": [
  {
   "cell_type": "code",
   "execution_count": 0,
   "metadata": {
    "application/vnd.databricks.v1+cell": {
     "cellMetadata": {},
     "inputWidgets": {},
     "nuid": "2aa925fc-5845-4d57-849c-d3966607bfb7",
     "showTitle": false,
     "tableResultSettingsMap": {},
     "title": ""
    }
   },
   "outputs": [],
   "source": [
    "%run ./configs"
   ]
  },
  {
   "cell_type": "code",
   "execution_count": 0,
   "metadata": {
    "application/vnd.databricks.v1+cell": {
     "cellMetadata": {},
     "inputWidgets": {},
     "nuid": "8a2b04a3-7eaf-4112-b6e1-2b61a1f6a2a6",
     "showTitle": false,
     "tableResultSettingsMap": {},
     "title": ""
    }
   },
   "outputs": [],
   "source": [
    "%run ./vectorSearch"
   ]
  },
  {
   "cell_type": "code",
   "execution_count": 0,
   "metadata": {
    "application/vnd.databricks.v1+cell": {
     "cellMetadata": {},
     "inputWidgets": {},
     "nuid": "2c1b09b4-4b1c-4366-bb0a-65cc4eca38ca",
     "showTitle": false,
     "tableResultSettingsMap": {},
     "title": ""
    }
   },
   "outputs": [],
   "source": [
    "class ProfileIndex:\n",
    "  def __init__(self):\n",
    "    self.vs = VectorSearch()\n",
    "\n",
    "  def get_sync_date(self, index_name):\n",
    "    sync_date = (\n",
    "        spark.sql(f\"\"\"\n",
    "            select date_add(last_load_date, 1) as sync_date\n",
    "            from {ats_configs.jobs_metadate_table_name} \n",
    "            where job_name = '{ats_configs.index_sync_job_name}'\n",
    "            order by last_load_date desc\n",
    "                  \"\"\").first()\n",
    "                .asDict()[\"sync_date\"]\n",
    "                .strftime(\"%Y-%m-%d\")\n",
    "    )\n",
    "\n",
    "    return sync_date\n",
    "\n",
    "  def update_metadata(self, sync_date):\n",
    "    print(f\"Updating metadata for {ats_configs.index_sync_job_name}\\n\")\n",
    "    spark.sql(\n",
    "            f\"\"\"\n",
    "            insert into {ats_configs.jobs_metadate_table_name}\n",
    "            values('{ats_configs.index_sync_job_name}', \n",
    "            '{sync_date}', \n",
    "            current_timestamp(), \n",
    "            'Job Execution Completed.' )\"\"\")\n",
    "    print(f\"Updated metadata for {ats_configs.index_sync_job_name}\\n\")\n",
    "\n",
    "  def index_profile(self):\n",
    "    sync_date = self.get_sync_date(ats_configs.vector_index_name)\n",
    "    print(f\"Indexing profiles for {ats_configs.vector_index_name}\\n\")\n",
    "    self.vs.sync_index(ats_configs.vector_index_name)\n",
    "    print(f\"Indexed profiles for {ats_configs.vector_index_name}\\n\")\n",
    "    self.update_metadata(sync_date)"
   ]
  }
 ],
 "metadata": {
  "application/vnd.databricks.v1+notebook": {
   "computePreferences": null,
   "dashboards": [],
   "environmentMetadata": {
    "base_environment": "",
    "environment_version": "2"
   },
   "inputWidgetPreferences": null,
   "language": "python",
   "notebookMetadata": {
    "pythonIndentUnit": 4
   },
   "notebookName": "profile_silver_indexing",
   "widgets": {}
  },
  "language_info": {
   "name": "python"
  }
 },
 "nbformat": 4,
 "nbformat_minor": 0
}
