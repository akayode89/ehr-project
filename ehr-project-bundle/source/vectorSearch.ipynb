{
 "cells": [
  {
   "cell_type": "code",
   "execution_count": 0,
   "metadata": {
    "application/vnd.databricks.v1+cell": {
     "cellMetadata": {
      "byteLimit": 2048000,
      "rowLimit": 10000
     },
     "inputWidgets": {},
     "nuid": "b657bfb8-2681-403a-a827-0014b91756cc",
     "showTitle": false,
     "tableResultSettingsMap": {},
     "title": ""
    }
   },
   "outputs": [],
   "source": [
    "class VectorSearch():\n",
    "    def __init__(self):\n",
    "        from databricks.vector_search.client import VectorSearchClient\n",
    "        self.vs_client = VectorSearchClient(disable_notice=True)\n",
    "\n",
    "    def get_vectors(self):\n",
    "        ep_list = self.vs_client.list_endpoints()\n",
    "        endpoint_names = [ep[\"name\"] for ep in ep_list]\n",
    "        return endpoint_names\n",
    "\n",
    "    def get_indexes(self,endpoint_name):\n",
    "        index_list = self.vs_client.list_indexes(endpoint_name)\n",
    "        index_names = [index[\"name\"] for index in index_list]\n",
    "        return index_names\n",
    "\n",
    "    def create_vector_endpoint(self, endpoint_name):\n",
    "        endpoint_names = self.get_vectors()\n",
    "        if len(endpoint_names) == 0 or endpoint_name not in endpoint_names:\n",
    "          print(f\"Creating Vector Endpoint...\", end='')       \n",
    "          #self.vs_client.create_endpoint_and_wait(name=endpoint_name,endpoint_type=\"STANDARD\")\n",
    "          self.vs_client.create_endpoint(name=endpoint_name,endpoint_type=\"STANDARD\")\n",
    "          print(\"Done\")\n",
    "        else:\n",
    "          print(f\"Vector Endpoint already exists\")\n",
    "        \n",
    "    def delete_vector_endpoint(self, endpoint_name):\n",
    "        #endpoint_names = self.get_vectors()\n",
    "        ep_list = self.vs_client.list_endpoints()\n",
    "        endpoint_names = [ep['name'] for ep in ep_list['endpoints']]\n",
    "        if len(endpoint_names)>0 and endpoint_name in endpoint_names:\n",
    "          print(f\"Deleting Vector Endpoint...\", end='')\n",
    "          self.vs_client.delete_endpoint(name=endpoint_name)\n",
    "          print(\"Done\") \n",
    "        else:\n",
    "          print(f\"Vector Endpoint does not exist\")\n",
    "\n",
    "    def create_vector_index(self, index_name, source_table_name, \n",
    "                     primary_key, embedding_source_column, \n",
    "                     embedding_model_endpoint_name, vector_endpoint_name):\n",
    "        indexes = self.get_indexes(vector_endpoint_name)\n",
    "        if len(indexes)==0 or index_name in indexes:\n",
    "          print(f\"Creating Index...\", end='')\n",
    "          self.vs_client.create_delta_sync_index_and_wait(\n",
    "              index_name=f\"{index_name}\",\n",
    "              source_table_name=f\"{source_table_name}\",            \n",
    "              primary_key=primary_key,\n",
    "              embedding_source_column=embedding_source_column,\n",
    "              embedding_model_endpoint_name=embedding_model_endpoint_name,\n",
    "              pipeline_type=\"TRIGGERED\",\n",
    "              endpoint_name=vector_endpoint_name)\n",
    "        else:\n",
    "          print(f\"Index already exists\")\n",
    "          print(\"Done\")\n",
    "\n",
    "    def sync_index(self, index_name):\n",
    "        import time\n",
    "        print(f\"Syncing Index...\", end='')\n",
    "        index = self.vs_client.get_index(index_name=f\"{index_name}\")\n",
    "        index.sync()\n",
    "        index_status = False\n",
    "        while index_status!=True:\n",
    "            time.sleep(20)\n",
    "            index_status = index.describe()[\"status\"][\"ready\"] \n",
    "        print(\"Done\")\n",
    "\n",
    "    def delete_index(self, index_name,endpoint_name):\n",
    "        #indexes = self.get_indexes(endpoint_name)\n",
    "        index_list = self.vs_client.list_indexes(endpoint_name)\n",
    "        indexes = [index[\"name\"] for index in index_list[\"vector_indexes\"]]\n",
    "        if len(indexes)>0 and index_name in indexes:\n",
    "          print(f\"Deleting Index...\", end='')\n",
    "          self.vs_client.delete_index(index_name=f\"{index_name}\")\n",
    "          print(\"Done\")\n",
    "        else:\n",
    "          print(f\"Index does not exist\")\n",
    "\n",
    "#VS = VectorSearch()"
   ]
  }
 ],
 "metadata": {
  "application/vnd.databricks.v1+notebook": {
   "computePreferences": null,
   "dashboards": [],
   "environmentMetadata": {
    "base_environment": "",
    "environment_version": "2"
   },
   "inputWidgetPreferences": null,
   "language": "python",
   "notebookMetadata": {
    "pythonIndentUnit": 4
   },
   "notebookName": "vectorSearch",
   "widgets": {}
  },
  "language_info": {
   "name": "python"
  }
 },
 "nbformat": 4,
 "nbformat_minor": 0
}
