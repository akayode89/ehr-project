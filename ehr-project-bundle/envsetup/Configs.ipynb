{
 "cells": [
  {
   "cell_type": "code",
   "execution_count": 0,
   "metadata": {
    "application/vnd.databricks.v1+cell": {
     "cellMetadata": {
      "byteLimit": 2048000,
      "rowLimit": 10000
     },
     "inputWidgets": {},
     "nuid": "678f0319-b39b-4e1a-9ec9-5b95ffa3e2fa",
     "showTitle": false,
     "tableResultSettingsMap": {},
     "title": ""
    }
   },
   "outputs": [],
   "source": [
    "dbutils.widgets.text(\"catalog\", \"ehr_uat\",\"Set the current environment catalog name\")\n",
    "dbutils.widgets.text(\"db\", \"ats_db\",\"Set the current environment database name\")\n",
    "\n",
    "catalog_name = dbutils.widgets.get(\"catalog\")\n",
    "db_name = dbutils.widgets.get(\"db\")"
   ]
  },
  {
   "cell_type": "code",
   "execution_count": 0,
   "metadata": {
    "application/vnd.databricks.v1+cell": {
     "cellMetadata": {
      "byteLimit": 2048000,
      "rowLimit": 10000
     },
     "inputWidgets": {},
     "nuid": "f6e732ff-3317-4c42-9d22-c4de045afc9e",
     "showTitle": false,
     "tableResultSettingsMap": {},
     "title": ""
    }
   },
   "outputs": [],
   "source": [
    "class ATScongigs:\n",
    "    def __init__(self):\n",
    "        self.catalog = catalog_name\n",
    "        self.db = db_name\n",
    "        self.owner = ''\n",
    "        self.repo = ''\n",
    "        self.landing_volume = 'data_ingestion'\n",
    "        self.profile_source = 'profiles'\n",
    "        self.jd_source = 'jds'\n",
    "        self.jobs_metadate_table_name = 'jobs_metadata'\n",
    "        self.jobs_Initial_description = 'Initial Configuration'\n",
    "        self.jobs_Initial_date = '2025-06-30'\n",
    "        \n",
    "        self.profile_landing_zone = f\"{self.landing_volume}/{self.profile_source}\"\n",
    "        self.profile_ingestion_job_name = 'profile_ingestion'\n",
    "\n",
    "        self.profile_bronze_table_name = 'ingested_profile_bz'\n",
    "        self.profile_bronze_job_name = 'load_profile_to_bronze'\n",
    "\n",
    "        self.profile_silver_table_name = 'candidate_profile_sl'\n",
    "        self.profile_silver_job_name = 'load_profile_to_silver'\n",
    "\n",
    "        self.index_sync_job_name = 'index_profile_from_silver'\n",
    "\n",
    "        self.jd_landing_zone = f\"{self.landing_volume}/{self.jd_source}\"\n",
    "        self.jd_ingestion_job_name = 'jd_ingestion'\n",
    "\n",
    "        self.jd_bronze_table_name = 'jd_ingested_bz'\n",
    "        self.jd_bronze_job_name = 'load_jd_to_bronze'\n",
    "\n",
    "        self.jd_silver_table_name = 'job_description_sl'\n",
    "        self.jd_silver_job_name = 'load_jd_to_silver'\n",
    "\n",
    "        self.jd_profile_table_name = 'jd_profile_match'\n",
    "        self.jd_profile_job_name = 'match_jd_to_profile'\n",
    "\n",
    "        self.chat_model_endpoint_name = 'gpt-4o-mini-endpoint'\n",
    "        self.chat_model_name = 'gpt-4o-mini'\n",
    "        self.embedding_model_endpoint_name = 'openai-emdedding-endpoint'\n",
    "        self.embedding_model_name = 'text-embedding-3-small'\n",
    "        self.vector_store_endpoint_name = 'ats-vector-store-endpoint'\n",
    "        self.vector_index_name = f'{self.catalog}.{self.db}.candidate_profile_index'\n",
    "        self.profile_silver_index_store_table = f'{self.catalog}.{self.db}.{self.profile_silver_table_name}'\n",
    "\n",
    "    def set_current_db(self):\n",
    "        spark.sql(f\"USE {self.catalog}.{self.db}\")\n",
    "\n",
    "ats_configs = ATScongigs()\n",
    "ats_configs.set_current_db()"
   ]
  }
 ],
 "metadata": {
  "application/vnd.databricks.v1+notebook": {
   "computePreferences": null,
   "dashboards": [],
   "environmentMetadata": {
    "base_environment": "",
    "environment_version": "2"
   },
   "inputWidgetPreferences": null,
   "language": "python",
   "notebookMetadata": {
    "pythonIndentUnit": 4
   },
   "notebookName": "Configs",
   "widgets": {
    "catalog": {
     "currentValue": "ehr_dev",
     "nuid": "80bd51cd-84c4-440f-b510-ce8cad2b2940",
     "typedWidgetInfo": {
      "autoCreated": false,
      "defaultValue": "ehr_dev",
      "label": "Set the current environment catalog name",
      "name": "catalog",
      "options": {
       "widgetDisplayType": "Text",
       "validationRegex": null
      },
      "parameterDataType": "String"
     },
     "widgetInfo": {
      "widgetType": "text",
      "defaultValue": "ehr_dev",
      "label": "Set the current environment catalog name",
      "name": "catalog",
      "options": {
       "widgetType": "text",
       "autoCreated": null,
       "validationRegex": null
      }
     }
    },
    "db": {
     "currentValue": "ats_db",
     "nuid": "6eaeff9c-6665-4514-ba6f-cd8e1ffa3ceb",
     "typedWidgetInfo": {
      "autoCreated": false,
      "defaultValue": "ats_db",
      "label": "Set the current environment database name",
      "name": "db",
      "options": {
       "widgetDisplayType": "Text",
       "validationRegex": null
      },
      "parameterDataType": "String"
     },
     "widgetInfo": {
      "widgetType": "text",
      "defaultValue": "ats_db",
      "label": "Set the current environment database name",
      "name": "db",
      "options": {
       "widgetType": "text",
       "autoCreated": null,
       "validationRegex": null
      }
     }
    }
   }
  },
  "language_info": {
   "name": "python"
  }
 },
 "nbformat": 4,
 "nbformat_minor": 0
}
