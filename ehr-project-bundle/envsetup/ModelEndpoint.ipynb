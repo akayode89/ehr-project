{
 "cells": [
  {
   "cell_type": "code",
   "execution_count": 0,
   "metadata": {
    "application/vnd.databricks.v1+cell": {
     "cellMetadata": {
      "byteLimit": 2048000,
      "rowLimit": 10000
     },
     "inputWidgets": {},
     "nuid": "c6c6e7a5-fc34-41cd-b813-84b0677ae5b1",
     "showTitle": false,
     "tableResultSettingsMap": {},
     "title": ""
    }
   },
   "outputs": [],
   "source": [
    "class Endpoints():\n",
    "    def __init__(self):\n",
    "        from mlflow.deployments import get_deploy_client\n",
    "        self.chat = \"llm/v1/chat\"\n",
    "        self.embeddings = \"llm/v1/embeddings\"\n",
    "        self.dp_client = get_deploy_client('databricks')\n",
    "    \n",
    "    def get_endpoint(self):\n",
    "      endpoint_list = self.dp_client.list_endpoints()\n",
    "      endpoint_names = [ep[\"name\"] for ep in endpoint_list]\n",
    "      return endpoint_names\n",
    "\n",
    "    api_key = dbutils.secrets.get(scope = \"genai-key-vault-secret\", key = \"openaiapikey\")\n",
    "    def create(self, name, model, provider=\"openai\", task=\"chat\"):\n",
    "        print(f\"Creating Model Endpoint...\", end='')\n",
    "        endpoint_names = self.get_endpoint()\n",
    "        if name in endpoint_names:\n",
    "            print(f\"Endpoint {name} already exists\")\n",
    "        else:\n",
    "            endpoint = self.dp_client.create_endpoint(\n",
    "                config={\n",
    "                    \"name\": name,\n",
    "                    \"config\": {\n",
    "                        \"served_entities\": [{\n",
    "                            \"external_model\": {\n",
    "                                \"name\": model,                            \n",
    "                                \"provider\": provider,\n",
    "                                \"task\": self.chat if task==\"chat\" else self.embeddings,\n",
    "                                \"openai_config\": {\n",
    "                                    \"openai_api_type\": \"openai\",\n",
    "                                    \"openai_api_key_plaintext\": api_key,\n",
    "                                    },                            \n",
    "                                },\n",
    "                            }]                    \n",
    "                        },\n",
    "                    \"ai_gateway\":{\"usage_tracking_config\": {\"enabled\": True}}\n",
    "                    }\n",
    "                )\n",
    "            print(\"Done\")\n",
    "        \n",
    "    def delete(self, name):\n",
    "        endpoint_names = self.get_endpoint()\n",
    "        if name not in endpoint_names:\n",
    "            print(f\"Endpoint {name} does not exist\")\n",
    "        else:\n",
    "            print(f\"Deleting Model Endpoint...\", end='')\n",
    "            self.dp_client.delete_endpoint(endpoint=name)\n",
    "            print(\"Done\")\n",
    "\n",
    "#DP = Deployments()"
   ]
  }
 ],
 "metadata": {
  "application/vnd.databricks.v1+notebook": {
   "computePreferences": null,
   "dashboards": [],
   "environmentMetadata": {
    "base_environment": "",
    "environment_version": "2"
   },
   "inputWidgetPreferences": null,
   "language": "python",
   "notebookMetadata": {
    "pythonIndentUnit": 4
   },
   "notebookName": "ModelEndpoint",
   "widgets": {}
  },
  "language_info": {
   "name": "python"
  }
 },
 "nbformat": 4,
 "nbformat_minor": 0
}
